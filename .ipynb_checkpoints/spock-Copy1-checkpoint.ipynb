{
 "cells": [
  {
   "cell_type": "code",
   "execution_count": null,
   "id": "87b3bbb8-f40a-4b91-a223-5c893b83e61c",
   "metadata": {},
   "outputs": [],
   "source": [
    "import rebound\n",
    "%matplotlib inline\n",
    "\n",
    "sim = rebound.Simulation()\n",
    "sim.add('Sun')\n",
    "sim.add('Mercury')\n",
    "sim.add('Venus')\n",
    "sim.add('Earth')\n",
    "sim.add('Mars')\n",
    "sim.add('Jupiter')\n",
    "sim.add('Saturn')\n",
    "sim.add('Uranus')\n",
    "sim.add('Neptune')\n",
    "\n",
    "sim.move_to_com()\n",
    "fig = rebound.OrbitPlot(sim)"
   ]
  },
  {
   "cell_type": "code",
   "execution_count": null,
   "id": "7bf675d9-53c5-439f-a596-a90613f3b6e6",
   "metadata": {},
   "outputs": [],
   "source": [
    "from spock import FeatureClassifier\n",
    "model = FeatureClassifier()"
   ]
  },
  {
   "cell_type": "code",
   "execution_count": null,
   "id": "c5eea0f8-ebf8-4f36-9060-ecf20ac49c65",
   "metadata": {},
   "outputs": [],
   "source": [
    "%%time\n",
    "model.predict_stable(sim)"
   ]
  },
  {
   "cell_type": "code",
   "execution_count": null,
   "id": "9d1c341f-ff64-45d8-b170-58d0f1f06ba8",
   "metadata": {},
   "outputs": [],
   "source": [
    "model.generate_features(sim)"
   ]
  },
  {
   "cell_type": "code",
   "execution_count": null,
   "id": "93bc736a-9b52-4216-9752-3bc9756e8958",
   "metadata": {},
   "outputs": [],
   "source": [
    "from spock import DeepRegressor\n",
    "deepmodel = DeepRegressor()"
   ]
  },
  {
   "cell_type": "code",
   "execution_count": null,
   "id": "4f33a245-4962-4f5a-bc62-094dbb5fbf74",
   "metadata": {},
   "outputs": [],
   "source": [
    "%%time\n",
    "median, lower, upper, samples = deepmodel.predict_instability_time(sim, return_samples=True)"
   ]
  },
  {
   "cell_type": "code",
   "execution_count": null,
   "id": "441872ed-6a82-4067-b101-0d9f163927d7",
   "metadata": {},
   "outputs": [],
   "source": [
    "import matplotlib.pyplot as plt\n",
    "import numpy as np\n",
    "import scienceplots\n",
    "plt.style.use(['science', 'notebook', 'grid'])\n",
    "%matplotlib inline\n",
    "\n",
    "fig, ax = plt.subplots()\n",
    "ax.hist(np.log10(samples), density=True,\n",
    "            histtype=u'step', bins=40,\n",
    "            range=(4, 12), lw=3);\n",
    "\n",
    "plt.ylabel('Probability')\n",
    "plt.xlabel('Instability time (log10(T))')\n",
    "plt.show()"
   ]
  },
  {
   "cell_type": "code",
   "execution_count": null,
   "id": "fcf17c2b-e485-4a39-a068-e5d48ff6bf7d",
   "metadata": {},
   "outputs": [],
   "source": [
    "print(\"Median instability time = {0:.3e} orbits\\n16th percentile instability time = {1:.3e} orbits\\n84th percentile instability time = {2:.3e} orbits\".format(median, lower, upper))"
   ]
  },
  {
   "cell_type": "code",
   "execution_count": null,
   "id": "b318ed93-8129-45e8-921e-d30167f4cc8d",
   "metadata": {},
   "outputs": [],
   "source": [
    "from spock import AnalyticalClassifier\n",
    "analyticalmodel = AnalyticalClassifier()"
   ]
  },
  {
   "cell_type": "code",
   "execution_count": null,
   "id": "1f2ba6ce-0f36-4eff-88ad-0607e1e30a1d",
   "metadata": {},
   "outputs": [],
   "source": [
    "%%time\n",
    "prob = analyticalmodel.predict_stable(sim)\n",
    "print(\"Probability of regular (non-chaotic) motion: {0:.2f}\".format(prob))"
   ]
  },
  {
   "cell_type": "code",
   "execution_count": null,
   "id": "de79b2d4-af7b-4dba-9952-2845c2cdb436",
   "metadata": {},
   "outputs": [],
   "source": []
  }
 ],
 "metadata": {
  "kernelspec": {
   "display_name": "spock",
   "language": "python",
   "name": "spock"
  },
  "language_info": {
   "codemirror_mode": {
    "name": "ipython",
    "version": 3
   },
   "file_extension": ".py",
   "mimetype": "text/x-python",
   "name": "python",
   "nbconvert_exporter": "python",
   "pygments_lexer": "ipython3",
   "version": "3.7.12"
  }
 },
 "nbformat": 4,
 "nbformat_minor": 5
}
